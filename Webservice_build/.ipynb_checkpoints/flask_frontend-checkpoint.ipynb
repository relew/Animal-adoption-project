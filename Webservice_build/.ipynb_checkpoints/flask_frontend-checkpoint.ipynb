{
 "cells": [
  {
   "cell_type": "code",
   "execution_count": 1,
   "id": "40ba2a6d",
   "metadata": {},
   "outputs": [],
   "source": [
    "import requests"
   ]
  },
  {
   "cell_type": "markdown",
   "id": "0e5a0c14",
   "metadata": {},
   "source": [
    "# Animal Adoption Model Beautiful Front-End"
   ]
  },
  {
   "cell_type": "code",
   "execution_count": 2,
   "id": "da519c80",
   "metadata": {},
   "outputs": [],
   "source": [
    "url = 'http://0.0.0.0:9999/adoption_predict'"
   ]
  },
  {
   "cell_type": "code",
   "execution_count": 3,
   "id": "e8d19a87",
   "metadata": {},
   "outputs": [],
   "source": [
    "input_json = {\"animal_type\":\"dog\",\n",
    "              \"intake_age_months\":\"1.0\",\n",
    "              \"date_income\":\"2022-10-15\",\n",
    "              \"time_income\":\"12:20:00\",\n",
    "              \"intake_type\":\"stray\",\n",
    "              \"intake_condition\": \"normal\",\n",
    "              \"income_sex\":\"male\",\n",
    "              \"income_neutered\":\"intact\",\n",
    "              \"animal_breed\": \"pitbull\",\n",
    "              \"animal_color\": \"black/white\"\n",
    "            }"
   ]
  },
  {
   "cell_type": "code",
   "execution_count": 4,
   "id": "df5292ed",
   "metadata": {},
   "outputs": [],
   "source": [
    "response = requests.post(url, json = input_json).json()"
   ]
  },
  {
   "cell_type": "code",
   "execution_count": 5,
   "id": "426961fa",
   "metadata": {},
   "outputs": [
    {
     "data": {
      "text/plain": [
       "{'adoption_prediction': True, 'adoption_probability': 0.6249404549598694}"
      ]
     },
     "execution_count": 5,
     "metadata": {},
     "output_type": "execute_result"
    }
   ],
   "source": [
    "response"
   ]
  },
  {
   "cell_type": "code",
   "execution_count": 6,
   "id": "784b80ec",
   "metadata": {},
   "outputs": [
    {
     "name": "stdout",
     "output_type": "stream",
     "text": [
      "The animal is likely to find a new home soon\n"
     ]
    }
   ],
   "source": [
    "if response['adoption_prediction'] == True:\n",
    "    print(\"The animal is likely to find a new home soon\")\n",
    "else:\n",
    "    print(\"There is a good chance that the animal will not find a new home\")"
   ]
  },
  {
   "cell_type": "markdown",
   "id": "4a7adc4f",
   "metadata": {},
   "source": [
    "## Dear Traveler, it was nice to meet you!"
   ]
  }
 ],
 "metadata": {
  "kernelspec": {
   "display_name": "Python 3 (ipykernel)",
   "language": "python",
   "name": "python3"
  },
  "language_info": {
   "codemirror_mode": {
    "name": "ipython",
    "version": 3
   },
   "file_extension": ".py",
   "mimetype": "text/x-python",
   "name": "python",
   "nbconvert_exporter": "python",
   "pygments_lexer": "ipython3",
   "version": "3.9.12"
  }
 },
 "nbformat": 4,
 "nbformat_minor": 5
}
